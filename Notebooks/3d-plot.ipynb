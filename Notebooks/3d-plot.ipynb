{
 "cells": [
  {
   "cell_type": "code",
   "execution_count": 1,
   "id": "d0efc8be",
   "metadata": {},
   "outputs": [],
   "source": [
    "import numpy as np\n",
    "import matplotlib.pyplot as plt\n",
    "from astropy.io import fits"
   ]
  },
  {
   "cell_type": "code",
   "execution_count": 37,
   "id": "7506c5f3",
   "metadata": {},
   "outputs": [
    {
     "name": "stdout",
     "output_type": "stream",
     "text": [
      "(285, 120, 220)\n",
      "(285, 120, 220)\n"
     ]
    }
   ],
   "source": [
    "gaussian_11 = fits.open('/home/scratch/hfwest/Pilot/Results/11/gaussian_map_11_single_component.fits')[0].data\n",
    "gaussian_33 = fits.open('/home/scratch/hfwest/Pilot/Results/33/gaussian_map_33.fits')[0].data\n",
    "\n",
    "print(gaussian_11.shape)\n",
    "print(gaussian_33.shape)"
   ]
  },
  {
   "cell_type": "code",
   "execution_count": 40,
   "id": "2c751dac",
   "metadata": {},
   "outputs": [],
   "source": [
    "x11 = gaussian_11.shape[2]\n",
    "x33 = gaussian_33.shape[2]\n",
    "y11 = gaussian_11.shape[1]\n",
    "y33 = gaussian_33.shape[1]"
   ]
  },
  {
   "cell_type": "code",
   "execution_count": null,
   "id": "d5bccaa7",
   "metadata": {},
   "outputs": [],
   "source": [
    "fig = plt.figure(figsize=[12, 10])\n",
    "ax = fig.add_subplot(projection='3d')\n",
    "\n",
    "ax.scatter(x11, y11, gaussian_11, label = '(1,1)')\n",
    "ax.scatter(x33, y33, gaussian_33, label = '(3,3)')\n",
    "\n",
    "plt.legend()\n",
    "ax.set_xlabel('$\\ell$ axis')\n",
    "ax.set_ylabel('b axis')\n",
    "ax.set_zlabel('V$_{LSR}$')\n",
    "plt.show()"
   ]
  },
  {
   "cell_type": "code",
   "execution_count": null,
   "id": "12ed3422",
   "metadata": {},
   "outputs": [],
   "source": []
  }
 ],
 "metadata": {
  "kernelspec": {
   "display_name": "student-rhel8",
   "language": "python",
   "name": "python3"
  },
  "language_info": {
   "codemirror_mode": {
    "name": "ipython",
    "version": 3
   },
   "file_extension": ".py",
   "mimetype": "text/x-python",
   "name": "python",
   "nbconvert_exporter": "python",
   "pygments_lexer": "ipython3",
   "version": "3.11.9"
  }
 },
 "nbformat": 4,
 "nbformat_minor": 5
}
