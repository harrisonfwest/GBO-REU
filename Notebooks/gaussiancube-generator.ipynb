{
 "cells": [
  {
   "cell_type": "code",
   "execution_count": 1,
   "id": "317646e8",
   "metadata": {},
   "outputs": [],
   "source": [
    "import numpy as np\n",
    "import matplotlib.pyplot as plt\n",
    "import astropy.units as u\n",
    "import warnings\n",
    "from astropy.wcs import WCS\n",
    "from astropy.io import fits\n",
    "from scipy.optimize import curve_fit, root_scalar\n",
    "from spectral_cube import SpectralCube\n",
    "from lmfit import Model, Parameters\n",
    "from scipy.interpolate import interp1d\n",
    "import pandas"
   ]
  },
  {
   "cell_type": "code",
   "execution_count": null,
   "id": "c390ba2f",
   "metadata": {},
   "outputs": [
    {
     "name": "stderr",
     "output_type": "stream",
     "text": [
      "WARNING: StokesWarning: Cube is a Stokes cube, returning spectral cube for I component [spectral_cube.io.core]\n"
     ]
    }
   ],
   "source": [
    "data_path = '/home/scratch/hfwest/Pilot/'\n",
    "\n",
    "nu11 = 23.6944955e9\n",
    "original = SpectralCube.read(data_path + 'Data/Pilot_NH3_11_bl2.fits').with_spectral_unit(u.km/u.s, velocity_convention='radio', rest_value=nu11*u.Hz)\n",
    "amp = fits.open(data_path + 'Results/33/Pilot_NH3_33_bl2_Max33_single_component.fits')[0].data\n",
    "sigma = fits.open(data_path + 'Results/Pilot_NH3_33_bl2_Sigma11_single_component.fits')[0].data\n",
    "vel = fits.open(data_path + 'Results/Pilot_NH3_11_bl2_Vel11_single_component.fits')[0].data"
   ]
  },
  {
   "cell_type": "code",
   "execution_count": 3,
   "id": "eb4fbf8b",
   "metadata": {},
   "outputs": [],
   "source": [
    "nx = original.shape[2]\n",
    "ny = original.shape[1]\n",
    "\n",
    "x_range = original.spectral_axis.value\n",
    "\n",
    "gaussian_data = np.zeros_like(original)\n",
    "\n",
    "def gaussian(x, amp, mean, sigma):\n",
    "    return amp * np.exp(-(x - mean)**2 / (2 * sigma**2))"
   ]
  },
  {
   "cell_type": "code",
   "execution_count": 4,
   "id": "87d5f612",
   "metadata": {},
   "outputs": [
    {
     "name": "stderr",
     "output_type": "stream",
     "text": [
      "/tmp/ipykernel_269239/2192992209.py:9: RuntimeWarning: divide by zero encountered in divide\n",
      "  return amp * np.exp(-(x - mean)**2 / (2 * sigma**2))\n"
     ]
    }
   ],
   "source": [
    "for j in range(ny):\n",
    "    for i in range(nx):\n",
    "        gaussian_data[:, j, i] = gaussian(x_range, amp[j, i], vel[j, i], sigma[j, i])"
   ]
  },
  {
   "cell_type": "code",
   "execution_count": 5,
   "id": "ca1d2b53",
   "metadata": {},
   "outputs": [],
   "source": [
    "output_fits = fits.PrimaryHDU(gaussian_data)\n",
    "output_fits.writeto('/home/scratch/hfwest/Pilot/Results/gaussian_map_11_single_component.fits', overwrite=True)"
   ]
  },
  {
   "cell_type": "code",
   "execution_count": 6,
   "id": "4db21169",
   "metadata": {},
   "outputs": [
    {
     "data": {
      "image/png": "[encoded data removed]",
      "text/plain": [
       "<Figure size 640x480 with 1 Axes>"
      ]
     },
     "metadata": {},
     "output_type": "display_data"
    }
   ],
   "source": [
    "import matplotlib.pyplot as plt\n",
    "import matplotlib.animation as animation\n",
    "\n",
    "fig, ax = plt.subplots()\n",
    "num_frames = gaussian_data.shape[0]\n",
    "\n",
    "image = ax.imshow(gaussian_data[0, :, :], origin= 'lower')\n",
    "def update(frame):\n",
    "    image = ax.imshow(gaussian_data[frame, :, :], origin= 'lower')\n",
    "    ax.axis('off')\n",
    "    return image\n",
    "\n",
    "anim = animation.FuncAnimation(fig = fig, func = update, frames = num_frames, interval = 30)\n",
    "anim.save(filename= '/home/scratch/hfwest/Pilot/Results/gaussian_map_11_single_component.gif', writer= 'pillow')"
   ]
  },
  {
   "cell_type": "code",
   "execution_count": null,
   "id": "aa13fa99",
   "metadata": {},
   "outputs": [],
   "source": []
  }
 ],
 "metadata": {
  "kernelspec": {
   "display_name": "student-rhel8",
   "language": "python",
   "name": "python3"
  },
  "language_info": {
   "codemirror_mode": {
    "name": "ipython",
    "version": 3
   },
   "file_extension": ".py",
   "mimetype": "text/x-python",
   "name": "python",
   "nbconvert_exporter": "python",
   "pygments_lexer": "ipython3",
   "version": "3.11.9"
  }
 },
 "nbformat": 4,
 "nbformat_minor": 5
}
