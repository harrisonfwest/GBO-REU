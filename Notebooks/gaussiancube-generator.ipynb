{
 "cells": [
  {
   "cell_type": "code",
   "execution_count": null,
   "id": "317646e8",
   "metadata": {},
   "outputs": [],
   "source": [
    "import numpy as np\n",
    "import matplotlib.pyplot as plt\n",
    "import astropy.units as u\n",
    "import warnings\n",
    "from astropy.wcs import WCS\n",
    "from astropy.io import fits\n",
    "from scipy.optimize import curve_fit, root_scalar\n",
    "from spectral_cube import SpectralCube\n",
    "from lmfit import Model, Parameters\n",
    "from scipy.interpolate import interp1d"
   ]
  },
  {
   "cell_type": "code",
   "execution_count": null,
   "id": "c390ba2f",
   "metadata": {},
   "outputs": [],
   "source": [
    "data_path = '/home/scratch/hfwest/Pilot/'\n",
    "\n",
    "original = SpectralCube.read() # TODO\n",
    "amp = SpectralCube.read() # TODO\n",
    "sigma = SpectralCube.read() # TODO\n",
    "vel = SpectralCube.read() # TODO"
   ]
  },
  {
   "cell_type": "code",
   "execution_count": null,
   "id": "eb4fbf8b",
   "metadata": {},
   "outputs": [],
   "source": [
    "nx = original.shape[2]\n",
    "ny = original.shape[1]\n",
    "nz = original.shape[0]\n",
    "\n",
    "x_range = original.spectral_axis\n",
    "\n",
    "gaussian_data = np.zeros((nz, ny, nx))\n",
    "\n",
    "def gaussian(x, amp, mean, sigma):\n",
    "    return amp * np.exp(-(x - mean)**2 / (2 * sigma**2))"
   ]
  },
  {
   "cell_type": "code",
   "execution_count": null,
   "id": "87d5f612",
   "metadata": {},
   "outputs": [],
   "source": [
    "for j in range(ny):\n",
    "    for i in range(nx):\n",
    "        gaussian_data[:, j, i] = gaussian(x_range, amp[j, i], vel[j, i], sigma[j, i])"
   ]
  },
  {
   "cell_type": "code",
   "execution_count": null,
   "id": "ca1d2b53",
   "metadata": {},
   "outputs": [],
   "source": [
    "output_fits = fits.PrimaryHDU(gaussian_data)\n",
    "output_fits.writeto('/home/scratch/hfwest/Pilot/Results/gaussian_map.fits', overwrite=True)"
   ]
  }
 ],
 "metadata": {
  "kernelspec": {
   "display_name": "student-rhel8",
   "language": "python",
   "name": "python3"
  },
  "language_info": {
   "codemirror_mode": {
    "name": "ipython",
    "version": 3
   },
   "file_extension": ".py",
   "mimetype": "text/x-python",
   "name": "python",
   "nbconvert_exporter": "python",
   "pygments_lexer": "ipython3",
   "version": "3.11.9"
  }
 },
 "nbformat": 4,
 "nbformat_minor": 5
}
