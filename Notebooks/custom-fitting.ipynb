{
 "cells": [
  {
   "cell_type": "code",
   "execution_count": 1,
   "id": "fde1b48a",
   "metadata": {},
   "outputs": [],
   "source": [
    "import numpy as np\n",
    "import matplotlib.pyplot as plt\n",
    "import astropy.units as u\n",
    "import warnings\n",
    "from astropy.wcs import WCS\n",
    "from astropy.io import fits\n",
    "from scipy.optimize import curve_fit, root_scalar\n",
    "from spectral_cube import SpectralCube\n",
    "from lmfit import Model, Parameters\n",
    "from scipy.interpolate import interp1d\n",
    "import aplpy\n",
    "\n",
    "warnings.filterwarnings('ignore')\n"
   ]
  },
  {
   "cell_type": "code",
   "execution_count": 2,
   "id": "5e319d93",
   "metadata": {},
   "outputs": [],
   "source": [
    "# Constants\n",
    "etamb = 0.89\n",
    "etaf = 1.0\n",
    "nu11 = 23.6944955e9\n",
    "nu22 = 23.7226333e9\n",
    "h = 6.62606896e-34\n",
    "kB = 1.3806504e-23\n",
    "Tbg = 2.73\n",
    "c = 2.99792458e8\n",
    "To = 41.5\n",
    "epsilon = 8.854187817e-12\n",
    "dipole = 298117.06e6\n",
    "C_moment = 186726.36e6\n",
    "mu = 1.476 * 3.336e-30\n",
    "mu11 = mu ** 2 * (1. / 2.)\n",
    "Einstein_A = (16. * np.pi ** 3 / (3. * epsilon * h * c ** 3)) * nu11 ** 3 * abs(mu11)\n",
    "J_Tbg = h * nu11 / kB * (1. / (np.exp(h * nu11 / (kB * Tbg)) - 1))\n",
    "etac = etamb * etaf\n",
    "mNH3=17.03      #amu\n",
    "mH=1.00794      #amu\n",
    "amu=1.66053886e-27  #kg"
   ]
  },
  {
   "cell_type": "code",
   "execution_count": null,
   "id": "2bd47f79",
   "metadata": {},
   "outputs": [],
   "source": [
    "def gaussian(x: np.ndarray, amp: float, cen: float, wid: float) -> np.ndarray:\n",
    "    return amp * np.exp(-((x - cen)**2) / (2 * wid**2))\n",
    "\n",
    "def quadrupole(x: np.ndarray, \n",
    "               m_amp: float, m_vel: float, m_wid: float, \n",
    "               s1_amp: float, s2_amp: float, s3_amp: float, s4_amp: float) -> np.ndarray:\n",
    "    vel = [-26.023, -16.368, 0.0, 16.368, 26.023]\n",
    "    return (gaussian(x, s1_amp, m_vel + vel[0], m_wid) +\n",
    "            gaussian(x, s2_amp, m_vel + vel[1], m_wid) +\n",
    "            gaussian(x, m_amp, m_vel , m_wid) +\n",
    "            gaussian(x, s3_amp, m_vel + vel[3], m_wid) +\n",
    "            gaussian(x, s4_amp, m_vel + vel[4], m_wid))\n",
    "    \n",
    "def quad_curvefit(x: np.ndarray, y: np.ndarray, peak_vel: float):\n",
    "    # Bounds for: main amp, main vel, main wid, s1 amp, s2 amp, s3 amp, s4 amp\n",
    "    func_bounds = ([0, -np.inf, 0, 0, 0, 0, 0], [np.inf, np.inf, np.inf, np.inf, np.inf, np.inf, np.inf])\n",
    "    popt, pcov = curve_fit(quadrupole, x, y, bounds = func_bounds)\n",
    "    return popt, pcov"
   ]
  },
  {
   "cell_type": "code",
   "execution_count": 25,
   "id": "9f6e4dbd",
   "metadata": {},
   "outputs": [
    {
     "data": {
      "image/png": "[encoded data removed]",
      "text/plain": [
       "<Figure size 640x480 with 1 Axes>"
      ]
     },
     "metadata": {},
     "output_type": "display_data"
    }
   ],
   "source": [
    "x_data = np.linspace(100, 200, 1000)\n",
    "params = [1, np.mean(x_data), .26, .5, .75, .75, .5]\n",
    "y_data = quadrupole(x_data, *params)\n",
    "\n",
    "fit_popt, fit_pcov = curve_fit(quadrupole, x_data, y_data)\n",
    "\n",
    "plt.plot(x_data, y_data)\n",
    "plt.plot(x_data, quadrupole(x_data, *fit_popt))\n",
    "plt.show()"
   ]
  },
  {
   "cell_type": "code",
   "execution_count": null,
   "id": "351f4f27",
   "metadata": {},
   "outputs": [],
   "source": []
  }
 ],
 "metadata": {
  "kernelspec": {
   "display_name": "base",
   "language": "python",
   "name": "python3"
  },
  "language_info": {
   "codemirror_mode": {
    "name": "ipython",
    "version": 3
   },
   "file_extension": ".py",
   "mimetype": "text/x-python",
   "name": "python",
   "nbconvert_exporter": "python",
   "pygments_lexer": "ipython3",
   "version": "3.12.7"
  }
 },
 "nbformat": 4,
 "nbformat_minor": 5
}
