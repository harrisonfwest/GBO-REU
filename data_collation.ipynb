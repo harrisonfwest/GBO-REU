{
 "cells": [
  {
   "cell_type": "code",
   "execution_count": 1,
   "id": "f6c73b96",
   "metadata": {},
   "outputs": [],
   "source": [
    "import numpy as np\n",
    "import pandas\n",
    "from matplotlib import pyplot as plt\n",
    "from astroquery.simbad import Simbad"
   ]
  },
  {
   "cell_type": "code",
   "execution_count": 28,
   "id": "35ac3ca7",
   "metadata": {},
   "outputs": [
    {
     "data": {
      "text/html": [
       "<div><i>Table length=8</i>\n",
       "<table id=\"table140265444321040\" class=\"table-striped table-bordered table-condensed\">\n",
       "<thead><tr><th>MAIN_ID</th><th>RA</th><th>DEC</th><th>RA_PREC</th><th>DEC_PREC</th><th>COO_ERR_MAJA</th><th>COO_ERR_MINA</th><th>COO_ERR_ANGLE</th><th>COO_QUAL</th><th>COO_WAVELENGTH</th><th>COO_BIBCODE</th><th>SCRIPT_NUMBER_ID</th></tr></thead>\n",
       "<thead><tr><th></th><th>&quot;h:m:s&quot;</th><th>&quot;d:m:s&quot;</th><th></th><th></th><th>mas</th><th>mas</th><th>deg</th><th></th><th></th><th></th><th></th></tr></thead>\n",
       "<thead><tr><th>object</th><th>str13</th><th>str13</th><th>int16</th><th>int16</th><th>float32</th><th>float32</th><th>int16</th><th>str1</th><th>str1</th><th>object</th><th>int32</th></tr></thead>\n",
       "<tr><td>NAME Sgr A West</td><td>17 45 39.4</td><td>-29 00 24</td><td>5</td><td>5</td><td>--</td><td>--</td><td>0</td><td>D</td><td></td><td></td><td>1</td></tr>\n",
       "<tr><td>NAME Galactic Center</td><td>17 45 39.6021</td><td>-29 00 22.000</td><td>9</td><td>9</td><td>--</td><td>--</td><td>0</td><td>E</td><td>G</td><td>2018A&amp;A...612A...1H</td><td>2</td></tr>\n",
       "<tr><td>NAME Sgr A-E</td><td>17 45 41.131</td><td>-29 04 36.43</td><td>7</td><td>7</td><td>--</td><td>--</td><td>0</td><td>D</td><td></td><td>1998ApJS..118..201L</td><td>3</td></tr>\n",
       "<tr><td>CO 000.02-00.02</td><td>17 45.7</td><td>-28 56</td><td>3</td><td>3</td><td>--</td><td>--</td><td>0</td><td>D</td><td>R</td><td>1998ApJS..118..455O</td><td>4</td></tr>\n",
       "<tr><td>GCM -0.02 -0.07</td><td>17 45 50.4</td><td>-28 59 06</td><td>5</td><td>5</td><td>--</td><td>--</td><td>0</td><td>D</td><td></td><td></td><td>5</td></tr>\n",
       "<tr><td>[OHS2001b] Minor Shell</td><td>17 48.2</td><td>-27 49</td><td>3</td><td>3</td><td>--</td><td>--</td><td>0</td><td>E</td><td>m</td><td>2001PASJ...53..787O</td><td>6</td></tr>\n",
       "<tr><td>[OHS2001b] Major Shell</td><td>17 48 33.9</td><td>-27 50 44</td><td>5</td><td>5</td><td>--</td><td>--</td><td>0</td><td>D</td><td>m</td><td>2021ApJ...910...61T</td><td>7</td></tr>\n",
       "<tr><td>CO 001.27+00.01</td><td>17 48.6</td><td>-27 51</td><td>3</td><td>3</td><td>--</td><td>--</td><td>0</td><td>E</td><td></td><td>2001PASJ...53..787O</td><td>8</td></tr>\n",
       "</table></div>"
      ],
      "text/plain": [
       "<Table length=8>\n",
       "       MAIN_ID               RA      ...     COO_BIBCODE     SCRIPT_NUMBER_ID\n",
       "                          \"h:m:s\"    ...                                     \n",
       "        object             str13     ...        object            int32      \n",
       "---------------------- ------------- ... ------------------- ----------------\n",
       "       NAME Sgr A West    17 45 39.4 ...                                    1\n",
       "  NAME Galactic Center 17 45 39.6021 ... 2018A&A...612A...1H                2\n",
       "          NAME Sgr A-E  17 45 41.131 ... 1998ApJS..118..201L                3\n",
       "       CO 000.02-00.02       17 45.7 ... 1998ApJS..118..455O                4\n",
       "       GCM -0.02 -0.07    17 45 50.4 ...                                    5\n",
       "[OHS2001b] Minor Shell       17 48.2 ... 2001PASJ...53..787O                6\n",
       "[OHS2001b] Major Shell    17 48 33.9 ... 2021ApJ...910...61T                7\n",
       "       CO 001.27+00.01       17 48.6 ... 2001PASJ...53..787O                8"
      ]
     },
     "execution_count": 28,
     "metadata": {},
     "output_type": "execute_result"
    }
   ],
   "source": [
    "# Getting Oka et al. 2001 data\n",
    "Oka_simbad = Simbad.query_objects([\"NAME Sgr A West\", \"NAME Galactic Center\", 'NAME Sgr A-E', 'CO 000.02-00.02', 'GCM -0.02 -0.07', '[OHS2001b] Minor Shell', '[OHS2001b] Major Shell', ' \tCO 001.27+00.01'])\n",
    "Oka_simbad"
   ]
  },
  {
   "cell_type": "code",
   "execution_count": 27,
   "id": "412d256b",
   "metadata": {},
   "outputs": [
    {
     "data": {
      "text/html": [
       "<div><i>Table length=13</i>\n",
       "<table id=\"table140265519993360\" class=\"table-striped table-bordered table-condensed\">\n",
       "<thead><tr><th>MAIN_ID</th><th>RA</th><th>DEC</th><th>RA_PREC</th><th>DEC_PREC</th><th>COO_ERR_MAJA</th><th>COO_ERR_MINA</th><th>COO_ERR_ANGLE</th><th>COO_QUAL</th><th>COO_WAVELENGTH</th><th>COO_BIBCODE</th><th>SCRIPT_NUMBER_ID</th></tr></thead>\n",
       "<thead><tr><th></th><th>&quot;h:m:s&quot;</th><th>&quot;d:m:s&quot;</th><th></th><th></th><th>mas</th><th>mas</th><th>deg</th><th></th><th></th><th></th><th></th></tr></thead>\n",
       "<thead><tr><th>object</th><th>str13</th><th>str13</th><th>int16</th><th>int16</th><th>float32</th><th>float32</th><th>int16</th><th>str1</th><th>str1</th><th>object</th><th>int32</th></tr></thead>\n",
       "<tr><td>M  42</td><td>05 35 16.8</td><td>-05 23 15</td><td>5</td><td>5</td><td>5000.000</td><td>5000.000</td><td>90</td><td>D</td><td>X</td><td>2022A&amp;A...661A..38P</td><td>1</td></tr>\n",
       "<tr><td>NAME Ori A</td><td>05 38</td><td>-07.1</td><td>2</td><td>2</td><td>--</td><td>--</td><td>0</td><td>E</td><td>O</td><td>2014A&amp;A...566A..45L</td><td>2</td></tr>\n",
       "<tr><td>NAME Orion Molecular Cloud</td><td>05 56</td><td>-01.8</td><td>2</td><td>2</td><td>--</td><td>--</td><td>0</td><td>E</td><td></td><td></td><td>3</td></tr>\n",
       "<tr><td>3C 273</td><td>12 29 06.6998</td><td>+02 03 08.597</td><td>14</td><td>14</td><td>0.018</td><td>0.013</td><td>90</td><td>A</td><td>O</td><td>2020yCat.1350....0G</td><td>4</td></tr>\n",
       "<tr><td>NAME Sgr C</td><td>17 44 36.3</td><td>-29 28 13</td><td>5</td><td>5</td><td>--</td><td>--</td><td>0</td><td>D</td><td></td><td>1997ApJ...488..224K</td><td>5</td></tr>\n",
       "<tr><td>NAME Galactic Center</td><td>17 45 39.6021</td><td>-29 00 22.000</td><td>9</td><td>9</td><td>--</td><td>--</td><td>0</td><td>E</td><td>G</td><td>2018A&amp;A...612A...1H</td><td>6</td></tr>\n",
       "<tr><td>NAME Sgr A*</td><td>17 45 40.0359</td><td>-29 00 28.169</td><td>9</td><td>9</td><td>2.650</td><td>1.420</td><td>0</td><td>B</td><td>R</td><td>2011AJ....142...35P</td><td>7</td></tr>\n",
       "<tr><td>NAME the Brick</td><td>17 46 09</td><td>-28 43.8</td><td>4</td><td>4</td><td>--</td><td>--</td><td>0</td><td>D</td><td>s</td><td>2018ApJS..234...22P</td><td>8</td></tr>\n",
       "<tr><td>NAME Sgr B1</td><td>17 47 02.0</td><td>-28 31 57</td><td>5</td><td>5</td><td>--</td><td>--</td><td>0</td><td>D</td><td></td><td></td><td>9</td></tr>\n",
       "<tr><td>NAME Sgr B2</td><td>17 47 20.4</td><td>-28 23 07</td><td>5</td><td>5</td><td>--</td><td>--</td><td>0</td><td>D</td><td></td><td></td><td>10</td></tr>\n",
       "<tr><td>NAME Sgr D</td><td>17 48 41.75</td><td>-28 01 45.0</td><td>6</td><td>6</td><td>--</td><td>--</td><td>0</td><td>E</td><td>s</td><td>2016A&amp;A...595A..94I</td><td>11</td></tr>\n",
       "<tr><td>3C 379</td><td>18 26.4</td><td>+23 19</td><td>3</td><td>3</td><td>--</td><td>--</td><td>0</td><td>E</td><td></td><td></td><td>12</td></tr>\n",
       "<tr><td>NAME Gould Belt</td><td></td><td></td><td>0</td><td>0</td><td>--</td><td>--</td><td>0</td><td></td><td></td><td></td><td>13</td></tr>\n",
       "</table></div>"
      ],
      "text/plain": [
       "<Table length=13>\n",
       "         MAIN_ID                 RA      ... SCRIPT_NUMBER_ID\n",
       "                              \"h:m:s\"    ...                 \n",
       "          object               str13     ...      int32      \n",
       "-------------------------- ------------- ... ----------------\n",
       "                     M  42    05 35 16.8 ...                1\n",
       "                NAME Ori A         05 38 ...                2\n",
       "NAME Orion Molecular Cloud         05 56 ...                3\n",
       "                    3C 273 12 29 06.6998 ...                4\n",
       "                NAME Sgr C    17 44 36.3 ...                5\n",
       "      NAME Galactic Center 17 45 39.6021 ...                6\n",
       "               NAME Sgr A* 17 45 40.0359 ...                7\n",
       "            NAME the Brick      17 46 09 ...                8\n",
       "               NAME Sgr B1    17 47 02.0 ...                9\n",
       "               NAME Sgr B2    17 47 20.4 ...               10\n",
       "                NAME Sgr D   17 48 41.75 ...               11\n",
       "                    3C 379       18 26.4 ...               12\n",
       "           NAME Gould Belt               ...               13"
      ]
     },
     "execution_count": 27,
     "metadata": {},
     "output_type": "execute_result"
    }
   ],
   "source": [
    "# Kauffmann et al. 2017 data:\n",
    "# 2 ESO, 13 SIMBAD, 1 Herschel\n",
    "Kauffmann_simbad = Simbad.query_objects(['M 42', 'NAME Ori A', 'NAME Orion Molecular Cloud', '3C 273', 'NAME Sgr C', 'NAME Galactic Center', 'NAME Sgr A*', 'NAME the Brick', 'NAME Sgr B1', 'NAME Sgr B2', 'NAME Sgr D', '3C 379', 'NAME Gould Belt'])\n",
    "Kauffmann_simbad"
   ]
  },
  {
   "cell_type": "code",
   "execution_count": null,
   "id": "0f3bece7",
   "metadata": {},
   "outputs": [],
   "source": []
  }
 ],
 "metadata": {
  "kernelspec": {
   "display_name": "student-rhel8",
   "language": "python",
   "name": "python3"
  },
  "language_info": {
   "codemirror_mode": {
    "name": "ipython",
    "version": 3
   },
   "file_extension": ".py",
   "mimetype": "text/x-python",
   "name": "python",
   "nbconvert_exporter": "python",
   "pygments_lexer": "ipython3",
   "version": "3.11.9"
  }
 },
 "nbformat": 4,
 "nbformat_minor": 5
}
